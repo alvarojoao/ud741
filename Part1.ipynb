{
 "cells": [
  {
   "cell_type": "code",
   "execution_count": 260,
   "metadata": {
    "collapsed": false
   },
   "outputs": [
    {
     "name": "stdout",
     "output_type": "stream",
     "text": [
      "[[ 4.  0.  0.  1.  0.  0.]\n",
      " [ 5.  5.  4.  0.  0.  0.]\n",
      " [ 0.  0.  0.  4.  5.  0.]\n",
      " [ 0.  3.  0.  0.  0.  3.]]\n"
     ]
    }
   ],
   "source": [
    "\"\"\"\n",
    "This script demonstrates how to design the simplest recommender system based of\n",
    "Collaborative Filtering. In order to make these predictions, we must first measure\n",
    "similarity of users or items from the rows and columns of the Utility Matrix.\n",
    "We will use the Pearson Correlation Similarity Measure to find similar users.\n",
    "\"\"\"\n",
    "#!/bin/python\n",
    "from __future__ import division\n",
    "\n",
    "from numpy import *\n",
    "from sklearn.metrics import mean_squared_error\n",
    "import math\n",
    "# User class stores the names and average rating for each user\n",
    "class User:\n",
    "    def __init__(self, name):\n",
    "        self.name = name\n",
    "        self.avg_r = 0.0\n",
    "\n",
    "# Item class stores the name of each item\n",
    "class Item:\n",
    "    def __init__(self, name):\n",
    "        self.name = name\n",
    "\n",
    "# Rating class is used to assign ratings\n",
    "class Rating:\n",
    "    def __init__(self, user_id, item_id, rating):\n",
    "        self.user_id = user_id\n",
    "        self.item_id = item_id\n",
    "        self.rating = rating\n",
    "\n",
    "# We store users in an array. The index of the array marks the id of that user\n",
    "user = []\n",
    "user.append(User(\"Ann\"))\n",
    "user.append(User(\"Bob\"))\n",
    "user.append(User(\"Carl\"))\n",
    "user.append(User(\"Doug\"))\n",
    "\n",
    "# Items are also stored in an array. The index of the array marks the id of that item.\n",
    "item = []\n",
    "item.append(Item(\"HP1\"))\n",
    "item.append(Item(\"HP2\"))\n",
    "item.append(Item(\"HP3\"))\n",
    "item.append(Item(\"SW1\"))\n",
    "item.append(Item(\"SW2\"))\n",
    "item.append(Item(\"SW3\"))\n",
    "\n",
    "rating = []\n",
    "rating.append(Rating(1, 1, 4))\n",
    "rating.append(Rating(1, 4, 1))\n",
    "rating.append(Rating(2, 1, 5))\n",
    "rating.append(Rating(2, 2, 5))\n",
    "rating.append(Rating(2, 3, 4))\n",
    "rating.append(Rating(3, 4, 4))\n",
    "rating.append(Rating(3, 5, 5))\n",
    "rating.append(Rating(4, 2, 3))\n",
    "rating.append(Rating(4, 6, 3))\n",
    "\n",
    "n_users = len(user)\n",
    "n_items = len(item)\n",
    "n_ratings = len(rating)\n",
    "\n",
    "# The utility matrix stores the rating for each user-item pair in the matrix form.\n",
    "utility = zeros((n_users, n_items))\n",
    "for r in rating:\n",
    "    utility[r.user_id-1][r.item_id-1] = r.rating\n",
    "print utility\n",
    "\n",
    "# Finds the average rating for each user and stores it in the user's object\n",
    "for i in range(0, n_users):\n",
    "    user[i].avg_r = mean([ri for ri in utility[i] if ri > 0])\n"
   ]
  },
  {
   "cell_type": "code",
   "execution_count": 261,
   "metadata": {
    "collapsed": false
   },
   "outputs": [],
   "source": [
    "def norm():\n",
    "    normalize = np.zeros((n_users, n_items))\n",
    "    for i in range(0, n_users):\n",
    "        for j in range(0, n_items):\n",
    "            if utility[i][j] != 0:\n",
    "                normalize[i][j] = utility[i][j] - user[i].avg_r\n",
    "            else:\n",
    "                normalize[i][j] = float('Inf')\n",
    "    return normalize"
   ]
  },
  {
   "cell_type": "code",
   "execution_count": 262,
   "metadata": {
    "collapsed": false
   },
   "outputs": [],
   "source": [
    "\"\"\"\n",
    "Definition of the pcs(x, y) and guess (u, i, top_n) functions.\n",
    "Complete these after reading the project description.\n",
    "\"\"\"\n",
    "# Finds the Pearson Correlation Similarity Measure between two users\n",
    "def pcs(x, y):\n",
    "    num = 0\n",
    "    A = utility[x - 1]\n",
    "    B = utility[y - 1]\n",
    "    avg_rx = mean([a for a in A if a>0])\n",
    "    avg_ry = mean([b for b in B if b>0])\n",
    "    I = [ (rxi,ryi) for (rxi,ryi) in zip(A,B) if rxi>0 and ryi>0  ]\n",
    "    if len(I)>0:\n",
    "        cima = sum([ (rxi-avg_rx)*(ryi-avg_ry) for (rxi,ryi) in I])\n",
    "        baixo1 = sum([ (rxi-avg_rx)**2 for (rxi,ryi) in I])\n",
    "        baixo2 = sum([ (ryi-avg_ry)**2 for (rxi,ryi) in I])\n",
    "        \n",
    "        baixo1Sqrt = math.sqrt(baixo1)\n",
    "        baixo2Sqrt = math.sqrt(baixo2)\n",
    "        \n",
    "        return cima/(baixo1Sqrt*baixo2Sqrt) if (baixo1Sqrt*baixo2Sqrt)!=0 else 0\n",
    "    else:\n",
    "        return 0\n",
    "    \n",
    "\n",
    "    "
   ]
  },
  {
   "cell_type": "code",
   "execution_count": 263,
   "metadata": {
    "collapsed": false
   },
   "outputs": [
    {
     "data": {
      "text/plain": [
       "2.6666666666666665"
      ]
     },
     "execution_count": 263,
     "metadata": {},
     "output_type": "execute_result"
    }
   ],
   "source": [
    "# Guesses the ratings that user with id, user_id, might give to item with id, i_id.\n",
    "# We will consider the top_n similar users to do this.\n",
    "def guess(user_id, i_id, top_n):\n",
    "    similarity = []\n",
    "    for i in range(0, n_users):\n",
    "        if i+1 != user_id:\n",
    "            similarity.append((pcs_matrix[user_id-1][i],i+1))\n",
    "    \n",
    "    similarity.sort(key=lambda x:x[0],reverse=True)\n",
    "    similarity = similarity[:top_n]\n",
    "    \n",
    "    rating_topN_ri = [(i,utility[i-1][i_id-1]) for v,i in similarity if utility[i-1][i_id-1]>0 ]\n",
    "    rating_topN_avg_diff_ri_u = [ri-user[u-1].avg_r for u,ri in rating_topN_ri ]\n",
    "    \n",
    "    avg_diff_ri_u = mean(rating_topN_avg_diff_ri_u) if len(rating_topN_avg_diff_ri_u)>0 else 0\n",
    "    responseF = abs(user[user_id-1].avg_r + avg_diff_ri_u)\n",
    "\n",
    "    return responseF\n",
    "    \n"
   ]
  },
  {
   "cell_type": "code",
   "execution_count": 264,
   "metadata": {
    "collapsed": false
   },
   "outputs": [
    {
     "name": "stdout",
     "output_type": "stream",
     "text": [
      "[[ 4.  0.  0.  1.  0.  0.]\n",
      " [ 5.  5.  4.  0.  0.  0.]\n",
      " [ 0.  0.  0.  4.  5.  0.]\n",
      " [ 0.  3.  0.  0.  0.  3.]]\n",
      "\r",
      "Generating Similarity Matrix [4:4] = 0.000000\n",
      "[[ 1.  1.  1.  0.]\n",
      " [ 1.  1.  0.  0.]\n",
      " [ 1.  0.  1.  0.]\n",
      " [ 0.  0.  0.  0.]]\n",
      "[[ 1.5      inf    inf -1.5      inf    inf]\n",
      " [ 0.333  0.333 -0.667    inf    inf    inf]\n",
      " [   inf    inf    inf -0.5    0.5      inf]\n",
      " [   inf  0.       inf    inf    inf  0.   ]]\n",
      "1 2.5\n",
      "2 4.66666666667\n",
      "3 4.5\n",
      "4 3.0\n",
      "[[ 4.     2.667  1.833  1.     3.     2.5  ]\n",
      " [ 5.     5.     4.     3.667  5.167  4.667]\n",
      " [ 5.417  4.667  3.833  4.     5.     4.5  ]\n",
      " [ 3.917  3.     2.333  2.     3.5    3.   ]]\n",
      "Ann's rating for SW2 should be 3.0\n",
      "Carl's rating for HP1 should be 5.41666666667\n",
      "Carl's rating for HP2 should be 4.66666666667\n",
      "Doug's rating for SW1 should be 2.0\n",
      "Doug's rating for SW2 should be 3.5\n",
      "Mean Squared Error is 4.80694444444\n"
     ]
    }
   ],
   "source": [
    "\n",
    "\"\"\"\n",
    "Displays utility matrix and mean squared error.\n",
    "This is for answering Q1,2 of Part 1.\n",
    "\"\"\"\n",
    "\n",
    "# Display the utility matrix as given in Part 1 of your project description\n",
    "set_printoptions(precision=3)\n",
    "print utility\n",
    "\n",
    "# Finds the average rating for each user and stores it in the user's object\n",
    "for i in range(0, n_users):\n",
    "    user[i].avg_r = mean([ri for ri in utility[i] if ri > 0])\n",
    "\n",
    "pcs_matrix = np.zeros((n_users, n_users))\n",
    "for i in range(0, n_users):\n",
    "    for j in range(0, n_users):\n",
    "        pcs_matrix[i][j] = pcs(i + 1, j + 1)\n",
    "\n",
    "print \"\\rGenerating Similarity Matrix [%d:%d] = %f\" % (i+1, j+1, pcs_matrix[i][j])\n",
    "print pcs_matrix\n",
    "\n",
    "print norm()\n",
    "for ii in range(n_users):\n",
    "    print (ii+1),user[ii].avg_r\n",
    "n = 3 # Assume top_n users\n",
    "\n",
    "# Finds all the missing values of the utility matrix\n",
    "utility_copy = copy(utility)\n",
    "for i in range(0, n_users):\n",
    "    for j in range(0, n_items):\n",
    "        if utility_copy[i][j] == 0:\n",
    "            utility_copy[i][j] = guess(i+1, j+1, n)\n",
    "\n",
    "print utility_copy\n",
    "\n",
    "# Finds the utility values of the particular users in the test set. Refer to Q2\n",
    "print \"Ann's rating for SW2 should be \" + str(guess(1, 5, n))\n",
    "print \"Carl's rating for HP1 should be \" + str(guess(3, 1, n))\n",
    "print \"Carl's rating for HP2 should be \" + str(guess(3, 2, n))\n",
    "print \"Doug's rating for SW1 should be \" + str(guess(4, 4, n))\n",
    "print \"Doug's rating for SW2 should be \" + str(guess(4, 5, n))\n",
    "\n",
    "guess = array([guess(1, 5, n), guess(3, 1, n), guess(3, 2, n), guess(4, 4, n), guess(4, 5, n)])\n",
    "\n",
    "### Ratings from the test set\n",
    "# Ann rates SW2 with 2 stars\n",
    "# Carl rates HP1 with 2 stars\n",
    "# Carl rates HP2 with 2 stars\n",
    "# Doug rates SW1 with 4 stars\n",
    "# Doug rates SW 2 with 3 stars\n",
    "\n",
    "test = array([2, 2, 2, 4, 3])\n",
    "\n",
    "# Finds the mean squared error of the ratings with respect to the test set\n",
    "print \"Mean Squared Error is \" + str(mean_squared_error(guess, test))"
   ]
  },
  {
   "cell_type": "code",
   "execution_count": null,
   "metadata": {
    "collapsed": true
   },
   "outputs": [],
   "source": []
  }
 ],
 "metadata": {
  "kernelspec": {
   "display_name": "Python 2",
   "language": "python",
   "name": "python2"
  },
  "language_info": {
   "codemirror_mode": {
    "name": "ipython",
    "version": 2
   },
   "file_extension": ".py",
   "mimetype": "text/x-python",
   "name": "python",
   "nbconvert_exporter": "python",
   "pygments_lexer": "ipython2",
   "version": "2.7.9"
  }
 },
 "nbformat": 4,
 "nbformat_minor": 0
}
