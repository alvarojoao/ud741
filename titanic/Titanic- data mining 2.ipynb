{
 "cells": [
  {
   "cell_type": "code",
   "execution_count": 1,
   "metadata": {
    "collapsed": true
   },
   "outputs": [],
   "source": [
    "import pandas as pd\n",
    "import numpy as np\n",
    "import csv as csv\n",
    "import math\n",
    "import matplotlib.pyplot as plt\n",
    "from sklearn.metrics import classification_report, accuracy_score\n",
    "from sklearn.cross_validation import train_test_split\n",
    "from sklearn import preprocessing\n",
    "\n",
    "%matplotlib inline"
   ]
  },
  {
   "cell_type": "code",
   "execution_count": 66,
   "metadata": {
    "collapsed": true
   },
   "outputs": [],
   "source": [
    "def preProcessData(dataframe):\n",
    "    dataframe['Gender'] = dataframe.Sex.map( {'female': 0, 'male': 1} ).astype(int)\n",
    "    modeEmbarked = dataframe.Embarked.dropna().mode().values\n",
    "    dataframe.loc[ (dataframe.Embarked.isnull()), 'Embarked']  = modeEmbarked\n",
    "    dummiesEmbarked = dataframe.Embarked.str.join(sep='*').str.get_dummies(sep='*')\n",
    "    dataframe = pd.concat([dataframe, dummiesEmbarked], axis=1)\n",
    "    \n",
    "    dataframe['Pclass'] = dataframe['Pclass'].astype('str') \n",
    "    dummiesPclass =  pd.get_dummies(dataframe.Pclass,prefix='Pclass').astype(int)\n",
    "    dataframe = pd.concat([dataframe, dummiesPclass], axis=1)\n",
    "    \n",
    "    #dataframe['SibSp'] = dataframe['SibSp'].astype('str') \n",
    "    #dummiesSibSp =  pd.get_dummies(dataframe.SibSp,prefix='SibSp')\n",
    "    #dataframe = pd.concat([dataframe, dummiesSibSp], axis=1)\n",
    "    \n",
    "    #dataframe['Parch'] = dataframe['Parch'].astype('str') \n",
    "    #dummiesParch = pd.get_dummies(dataframe.Parch,prefix='Parch')\n",
    "    #dataframe = pd.concat([dataframe, dummiesParch], axis=1)\n",
    "    \n",
    "    mean = dataframe['Age'].dropna().mean()\n",
    "    median = dataframe['Age'].dropna().median()\n",
    "    dataframe.loc[ (dataframe.Age.isnull()), 'Age'] = math.floor(median)\n",
    "    #min_max_scaler = preprocessing.MinMaxScaler()\n",
    "    #X_train_minmax = min_max_scaler.fit_transform(dataframe['Age'].values)\n",
    "    #dataframe['Age'] = X_train_minmax\n",
    "\n",
    "    #mean = dataframe['Fare'].dropna().mean()\n",
    "    median = dataframe['Fare'].dropna().median()\n",
    "    dataframe.loc[ (dataframe.Fare.isnull()), 'Fare'] = math.floor(median)\n",
    "    #X_train_minmax = min_max_scaler.fit_transform(dataframe['Fare'].values)\n",
    "    #dataframe['Fare'] = X_train_minmax\n",
    "    \n",
    "    ids = dataframe['PassengerId'].values\n",
    "    dataframe = dataframe.drop(['Name', 'Sex', 'Ticket','Cabin','Pclass','Parch','SibSp', 'PassengerId','Embarked'], axis=1) \n",
    "\n",
    "    return dataframe,ids"
   ]
  },
  {
   "cell_type": "code",
   "execution_count": 67,
   "metadata": {
    "collapsed": false
   },
   "outputs": [
    {
     "data": {
      "text/html": [
       "<div>\n",
       "<table border=\"1\" class=\"dataframe\">\n",
       "  <thead>\n",
       "    <tr style=\"text-align: right;\">\n",
       "      <th></th>\n",
       "      <th>Survived</th>\n",
       "      <th>Age</th>\n",
       "      <th>Fare</th>\n",
       "      <th>Gender</th>\n",
       "      <th>C</th>\n",
       "      <th>Q</th>\n",
       "      <th>S</th>\n",
       "      <th>Pclass_1</th>\n",
       "      <th>Pclass_2</th>\n",
       "      <th>Pclass_3</th>\n",
       "    </tr>\n",
       "  </thead>\n",
       "  <tbody>\n",
       "    <tr>\n",
       "      <th>0</th>\n",
       "      <td>0</td>\n",
       "      <td>22.0</td>\n",
       "      <td>7.2500</td>\n",
       "      <td>1</td>\n",
       "      <td>0</td>\n",
       "      <td>0</td>\n",
       "      <td>1</td>\n",
       "      <td>0</td>\n",
       "      <td>0</td>\n",
       "      <td>1</td>\n",
       "    </tr>\n",
       "    <tr>\n",
       "      <th>1</th>\n",
       "      <td>1</td>\n",
       "      <td>38.0</td>\n",
       "      <td>71.2833</td>\n",
       "      <td>0</td>\n",
       "      <td>1</td>\n",
       "      <td>0</td>\n",
       "      <td>0</td>\n",
       "      <td>1</td>\n",
       "      <td>0</td>\n",
       "      <td>0</td>\n",
       "    </tr>\n",
       "    <tr>\n",
       "      <th>2</th>\n",
       "      <td>1</td>\n",
       "      <td>26.0</td>\n",
       "      <td>7.9250</td>\n",
       "      <td>0</td>\n",
       "      <td>0</td>\n",
       "      <td>0</td>\n",
       "      <td>1</td>\n",
       "      <td>0</td>\n",
       "      <td>0</td>\n",
       "      <td>1</td>\n",
       "    </tr>\n",
       "    <tr>\n",
       "      <th>3</th>\n",
       "      <td>1</td>\n",
       "      <td>35.0</td>\n",
       "      <td>53.1000</td>\n",
       "      <td>0</td>\n",
       "      <td>0</td>\n",
       "      <td>0</td>\n",
       "      <td>1</td>\n",
       "      <td>1</td>\n",
       "      <td>0</td>\n",
       "      <td>0</td>\n",
       "    </tr>\n",
       "    <tr>\n",
       "      <th>4</th>\n",
       "      <td>0</td>\n",
       "      <td>35.0</td>\n",
       "      <td>8.0500</td>\n",
       "      <td>1</td>\n",
       "      <td>0</td>\n",
       "      <td>0</td>\n",
       "      <td>1</td>\n",
       "      <td>0</td>\n",
       "      <td>0</td>\n",
       "      <td>1</td>\n",
       "    </tr>\n",
       "  </tbody>\n",
       "</table>\n",
       "</div>"
      ],
      "text/plain": [
       "   Survived   Age     Fare  Gender  C  Q  S  Pclass_1  Pclass_2  Pclass_3\n",
       "0         0  22.0   7.2500       1  0  0  1         0         0         1\n",
       "1         1  38.0  71.2833       0  1  0  0         1         0         0\n",
       "2         1  26.0   7.9250       0  0  0  1         0         0         1\n",
       "3         1  35.0  53.1000       0  0  0  1         1         0         0\n",
       "4         0  35.0   8.0500       1  0  0  1         0         0         1"
      ]
     },
     "execution_count": 67,
     "metadata": {},
     "output_type": "execute_result"
    }
   ],
   "source": [
    "train_df = pd.read_csv('train.csv', header=0)  \n",
    "train_df,ids = preProcessData(train_df)\n",
    "train_df.head()"
   ]
  },
  {
   "cell_type": "code",
   "execution_count": 68,
   "metadata": {
    "collapsed": false
   },
   "outputs": [
    {
     "data": {
      "text/html": [
       "<div>\n",
       "<table border=\"1\" class=\"dataframe\">\n",
       "  <thead>\n",
       "    <tr style=\"text-align: right;\">\n",
       "      <th></th>\n",
       "      <th>Age</th>\n",
       "      <th>Fare</th>\n",
       "      <th>Gender</th>\n",
       "      <th>C</th>\n",
       "      <th>Q</th>\n",
       "      <th>S</th>\n",
       "      <th>Pclass_1</th>\n",
       "      <th>Pclass_2</th>\n",
       "      <th>Pclass_3</th>\n",
       "    </tr>\n",
       "  </thead>\n",
       "  <tbody>\n",
       "    <tr>\n",
       "      <th>0</th>\n",
       "      <td>34.5</td>\n",
       "      <td>7.8292</td>\n",
       "      <td>1</td>\n",
       "      <td>0</td>\n",
       "      <td>1</td>\n",
       "      <td>0</td>\n",
       "      <td>0</td>\n",
       "      <td>0</td>\n",
       "      <td>1</td>\n",
       "    </tr>\n",
       "    <tr>\n",
       "      <th>1</th>\n",
       "      <td>47.0</td>\n",
       "      <td>7.0000</td>\n",
       "      <td>0</td>\n",
       "      <td>0</td>\n",
       "      <td>0</td>\n",
       "      <td>1</td>\n",
       "      <td>0</td>\n",
       "      <td>0</td>\n",
       "      <td>1</td>\n",
       "    </tr>\n",
       "    <tr>\n",
       "      <th>2</th>\n",
       "      <td>62.0</td>\n",
       "      <td>9.6875</td>\n",
       "      <td>1</td>\n",
       "      <td>0</td>\n",
       "      <td>1</td>\n",
       "      <td>0</td>\n",
       "      <td>0</td>\n",
       "      <td>1</td>\n",
       "      <td>0</td>\n",
       "    </tr>\n",
       "    <tr>\n",
       "      <th>3</th>\n",
       "      <td>27.0</td>\n",
       "      <td>8.6625</td>\n",
       "      <td>1</td>\n",
       "      <td>0</td>\n",
       "      <td>0</td>\n",
       "      <td>1</td>\n",
       "      <td>0</td>\n",
       "      <td>0</td>\n",
       "      <td>1</td>\n",
       "    </tr>\n",
       "    <tr>\n",
       "      <th>4</th>\n",
       "      <td>22.0</td>\n",
       "      <td>12.2875</td>\n",
       "      <td>0</td>\n",
       "      <td>0</td>\n",
       "      <td>0</td>\n",
       "      <td>1</td>\n",
       "      <td>0</td>\n",
       "      <td>0</td>\n",
       "      <td>1</td>\n",
       "    </tr>\n",
       "  </tbody>\n",
       "</table>\n",
       "</div>"
      ],
      "text/plain": [
       "    Age     Fare  Gender  C  Q  S  Pclass_1  Pclass_2  Pclass_3\n",
       "0  34.5   7.8292       1  0  1  0         0         0         1\n",
       "1  47.0   7.0000       0  0  0  1         0         0         1\n",
       "2  62.0   9.6875       1  0  1  0         0         1         0\n",
       "3  27.0   8.6625       1  0  0  1         0         0         1\n",
       "4  22.0  12.2875       0  0  0  1         0         0         1"
      ]
     },
     "execution_count": 68,
     "metadata": {},
     "output_type": "execute_result"
    }
   ],
   "source": [
    "test_df = pd.read_csv('test.csv', header=0)  \n",
    "test_df,ids = preProcessData(test_df)\n",
    "test_df.head()"
   ]
  },
  {
   "cell_type": "code",
   "execution_count": 69,
   "metadata": {
    "collapsed": false
   },
   "outputs": [
    {
     "name": "stdout",
     "output_type": "stream",
     "text": [
      "(712L, 9L)\n",
      "(418L, 9L)\n",
      "             precision    recall  f1-score   support\n",
      "\n",
      "        0.0       0.86      0.84      0.85       114\n",
      "        1.0       0.73      0.75      0.74        65\n",
      "\n",
      "avg / total       0.81      0.81      0.81       179\n",
      "\n"
     ]
    }
   ],
   "source": [
    "from sklearn import linear_model\n",
    "\n",
    "train_data = train_df.values\n",
    "x_train, x_test, y_train, y_test = train_test_split(train_data[0::,1::], train_data[0::,0], \n",
    "                            test_size = 0.2, random_state = 123) # Split training/test.\n",
    "test_data = test_df.values\n",
    "print x_train.shape\n",
    "print test_data.shape\n",
    "\n",
    "logreg = linear_model.LogisticRegression(C=1e5)\n",
    "logreg.fit(x_train, y_train )\n",
    "y_true, y_pred = y_test, logreg.predict(x_test) # Get our predictions\n",
    "print(classification_report(y_true, y_pred)) # Classification on each digit\n",
    "\n",
    "y_pred = logreg.predict(test_data).astype(int)\n",
    "#print(classification_report(y_true, y_pred)) # Classification on each digit\n",
    "\n",
    "predictions_file = open(\"LogisticRegression2.csv\", \"wb\")\n",
    "open_file_object = csv.writer(predictions_file)\n",
    "open_file_object.writerow([\"PassengerId\",\"Survived\"])\n",
    "open_file_object.writerows(zip(ids, y_pred))\n",
    "predictions_file.close()"
   ]
  },
  {
   "cell_type": "code",
   "execution_count": 73,
   "metadata": {
    "collapsed": false
   },
   "outputs": [
    {
     "name": "stdout",
     "output_type": "stream",
     "text": [
      "             precision    recall  f1-score   support\n",
      "\n",
      "        0.0       0.64      1.00      0.78       114\n",
      "        1.0       0.00      0.00      0.00        65\n",
      "\n",
      "avg / total       0.41      0.64      0.50       179\n",
      "\n"
     ]
    }
   ],
   "source": [
    "from nolearn.dbn import DBN\n",
    "\n",
    "\n",
    "train_data =  np.array(train_df.values)\n",
    "x_train, x_test, y_train, y_test = train_test_split(train_data[0::,1::], train_data[0::,0], \n",
    "                            test_size = 0.2, random_state = 123) # Split training/test.\n",
    "test_data =  np.array(test_df.values)\n",
    "dbn_model = DBN([x_train.shape[1],50, 2],\n",
    "                learn_rates = 0.3,\n",
    "                learn_rate_decays = 0.9,\n",
    "                epochs = 200, \n",
    "                verbose = 0)\n",
    "dbn_model.fit(x_train, y_train)\n",
    "y_true, y_pred = y_test, dbn_model.predict(x_test) # Get our predictions\n",
    "print(classification_report(y_true, y_pred)) # Classification on each digit\n",
    "y_pred = dbn_model.predict(test_data) # Get our predictions\n",
    "predictions_file = open(\"DBN.csv\", \"wb\")\n",
    "open_file_object = csv.writer(predictions_file)\n",
    "open_file_object.writerow([\"PassengerId\",\"Survived\"])\n",
    "open_file_object.writerows(zip(ids, y_pred))\n",
    "predictions_file.close()"
   ]
  },
  {
   "cell_type": "code",
   "execution_count": 71,
   "metadata": {
    "collapsed": false
   },
   "outputs": [
    {
     "name": "stdout",
     "output_type": "stream",
     "text": [
      "             precision    recall  f1-score   support\n",
      "\n",
      "        0.0       0.90      0.75      0.82       117\n",
      "        1.0       0.64      0.84      0.73        62\n",
      "\n",
      "avg / total       0.81      0.78      0.79       179\n",
      "\n"
     ]
    }
   ],
   "source": [
    "from sklearn.ensemble import RandomForestClassifier\n",
    "\n",
    "train_data =  np.array(train_df.values)\n",
    "x_train, x_test, y_train, y_test = train_test_split(train_data[0::,1::], train_data[0::,0], \n",
    "                            test_size = 0.2, random_state = 1243) # Split training/test.\n",
    "test_data =  np.array(test_df.values)\n",
    "rf_model = RandomForestClassifier(n_estimators=100,)\n",
    "rf_model.fit(x_train, y_train)\n",
    "y_true, y_pred = y_test, rf_model.predict(x_test) # Get our predictions\n",
    "print(classification_report(y_true, y_pred)) # Classification on each digit\n",
    "y_pred = rf_model.predict(test_data) # Get our predictions\n",
    "predictions_file = open(\"RandomForestClassifier.csv\", \"wb\")\n",
    "open_file_object = csv.writer(predictions_file)\n",
    "open_file_object.writerow([\"PassengerId\",\"Survived\"])\n",
    "open_file_object.writerows(zip(ids, y_pred))\n",
    "predictions_file.close()"
   ]
  },
  {
   "cell_type": "code",
   "execution_count": 72,
   "metadata": {
    "collapsed": false
   },
   "outputs": [
    {
     "name": "stdout",
     "output_type": "stream",
     "text": [
      "             precision    recall  f1-score   support\n",
      "\n",
      "        0.0       0.80      0.77      0.78       120\n",
      "        1.0       0.56      0.61      0.59        59\n",
      "\n",
      "avg / total       0.72      0.72      0.72       179\n",
      "\n"
     ]
    }
   ],
   "source": [
    "from sklearn import svm\n",
    "\n",
    "train_data =  np.array(train_df.values)\n",
    "x_train, x_test, y_train, y_test = train_test_split(train_data[0::,1::], train_data[0::,0], \n",
    "                            test_size = 0.2, random_state = 12341) # Split training/test.\n",
    "test_data =  np.array(test_df.values)\n",
    "model = svm.SVC(C=10)\n",
    "model.fit(x_train, y_train)\n",
    "y_true, y_pred = y_test, model.predict(x_test) # Get our predictions\n",
    "print(classification_report(y_true, y_pred)) # Classification on each digit\n",
    "y_pred = model.predict(test_data) # Get our predictions\n",
    "predictions_file = open(\"SVC.csv\", \"wb\")\n",
    "open_file_object = csv.writer(predictions_file)\n",
    "open_file_object.writerow([\"PassengerId\",\"Survived\"])\n",
    "open_file_object.writerows(zip(ids, y_pred))\n",
    "predictions_file.close()"
   ]
  },
  {
   "cell_type": "code",
   "execution_count": null,
   "metadata": {
    "collapsed": true
   },
   "outputs": [],
   "source": []
  },
  {
   "cell_type": "code",
   "execution_count": null,
   "metadata": {
    "collapsed": true
   },
   "outputs": [],
   "source": []
  }
 ],
 "metadata": {
  "kernelspec": {
   "display_name": "Python 2",
   "language": "python",
   "name": "python2"
  },
  "language_info": {
   "codemirror_mode": {
    "name": "ipython",
    "version": 2
   },
   "file_extension": ".py",
   "mimetype": "text/x-python",
   "name": "python",
   "nbconvert_exporter": "python",
   "pygments_lexer": "ipython2",
   "version": "2.7.11"
  }
 },
 "nbformat": 4,
 "nbformat_minor": 0
}
